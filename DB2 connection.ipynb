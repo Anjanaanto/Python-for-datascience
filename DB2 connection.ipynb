{
 "cells": [
  {
   "cell_type": "markdown",
   "id": "e154ee06-4d79-41b7-a868-6ea4f83f3f21",
   "metadata": {},
   "source": [
    "## Connect DB2 using python"
   ]
  },
  {
   "cell_type": "markdown",
   "id": "5a952c9d-3d23-4353-8477-db185e37c23b",
   "metadata": {},
   "source": [
    "The ibm_db API provides a variety of useful Python functions for accessing and manipulating data in an IBM® data server database, including functions for connecting to a database, preparing and issuing SQL statements, fetching rows from result sets, calling stored procedures, committing and rolling back transactions, handling errors, and retrieving metadata.\n"
   ]
  },
  {
   "cell_type": "markdown",
   "id": "c44f7b85-4ab0-406c-9a65-4e32832dc329",
   "metadata": {},
   "source": [
    "Step 1: Import ibm_db database"
   ]
  },
  {
   "cell_type": "code",
   "execution_count": 1,
   "id": "3cece91f-f5f9-4823-a093-6741e1a8500b",
   "metadata": {},
   "outputs": [],
   "source": [
    "import ibm_db"
   ]
  },
  {
   "cell_type": "markdown",
   "id": "d42ecab8-ee32-4eed-b0b5-dec42b5dc362",
   "metadata": {},
   "source": [
    "Step 2: Enter the database credentials from the db2 database"
   ]
  },
  {
   "cell_type": "code",
   "execution_count": 2,
   "id": "29c2cee1-ecb2-47dc-ac29-9a63fdbb2f15",
   "metadata": {},
   "outputs": [],
   "source": [
    "#Replace the placeholder values with your actual Db2 hostname, username, and password:\n",
    "dsn_hostname = \"YourDb2Hostname\" # e.g.: \"54a2f15b-5c0f-46df-8954-7e38e612c2bd.c1ogj3sd0tgtu0lqde00.databases.appdomain.cloud\"\n",
    "dsn_uid = \"YourDb2Username\"        # e.g. \"abc12345\"\n",
    "dsn_pwd = \"YoueDb2Password\"      # e.g. \"7dBZ3wWt9XN6$o0J\"\n",
    "\n",
    "dsn_driver = \"{IBM DB2 ODBC DRIVER}\"\n",
    "dsn_database = \"BLUDB\"            # e.g. \"BLUDB\"\n",
    "dsn_port = \"YourPort\"                # e.g. \"32733\" \n",
    "dsn_protocol = \"TCPIP\"            # i.e. \"TCPIP\"\n",
    "dsn_security = \"SSL\"    "
   ]
  },
  {
   "cell_type": "markdown",
   "id": "c8d5d89f-e7d5-404a-a361-102744fb0147",
   "metadata": {},
   "source": [
    "step 3: Create the DB2 database connection"
   ]
  },
  {
   "cell_type": "code",
   "execution_count": 3,
   "id": "94036f7f-1d6f-4bf6-a087-056b4f332c7b",
   "metadata": {},
   "outputs": [
    {
     "name": "stdout",
     "output_type": "stream",
     "text": [
      "DRIVER={IBM DB2 ODBC DRIVER};DATABASE=BLUDB;HOSTNAME=YourDb2Hostname;PORT=YourPort;PROTOCOL=TCPIP;UID=YourDb2Username;PWD=YoueDb2Password;SECURITY=SSL;\n"
     ]
    }
   ],
   "source": [
    "#DO NOT MODIFY THIS CELL. Just RUN it with Shift + Enter\n",
    "dsn = (\n",
    "    \"DRIVER={0};\"\n",
    "    \"DATABASE={1};\"\n",
    "    \"HOSTNAME={2};\"\n",
    "    \"PORT={3};\"\n",
    "    \"PROTOCOL={4};\"\n",
    "    \"UID={5};\"\n",
    "    \"PWD={6};\"\n",
    "    \"SECURITY={7};\").format(dsn_driver, dsn_database, dsn_hostname, dsn_port, dsn_protocol, dsn_uid, dsn_pwd,dsn_security)\n",
    "print(dsn)"
   ]
  },
  {
   "cell_type": "markdown",
   "id": "c4bf86b8-0a03-448b-bc48-3d016cfb23d1",
   "metadata": {},
   "source": [
    "Now establish the connection to the database"
   ]
  },
  {
   "cell_type": "code",
   "execution_count": 4,
   "id": "640b409c-9195-48fe-8218-a3501be83b7a",
   "metadata": {},
   "outputs": [
    {
     "name": "stdout",
     "output_type": "stream",
     "text": [
      "Unable to connect:  [IBM][CLI Driver] SQL1337N  The service \"YourPort\" was not found. SQLCODE=-1337\n"
     ]
    }
   ],
   "source": [
    "#DO NOT MODIFY THIS CELL. Just RUN it with Shift + Enter\n",
    "try:\n",
    "    conn = ibm_db.connect(dsn, \"\", \"\")\n",
    "    print (\"Connected to database: \", dsn_database, \"as user: \", dsn_uid, \"on host: \", dsn_hostname)\n",
    "\n",
    "except:\n",
    "    print (\"Unable to connect: \", ibm_db.conn_errormsg() )"
   ]
  },
  {
   "cell_type": "code",
   "execution_count": null,
   "id": "c91f26a3-158a-4231-8874-4e8aed6b8afd",
   "metadata": {},
   "outputs": [],
   "source": [
    "#Retrieve Metadata for the Database Server\n",
    "server = ibm_db.server_info(conn)\n",
    "\n",
    "print (\"DBMS_NAME: \", server.DBMS_NAME)\n",
    "print (\"DBMS_VER:  \", server.DBMS_VER)\n",
    "print (\"DB_NAME:   \", server.DB_NAME)"
   ]
  },
  {
   "cell_type": "code",
   "execution_count": null,
   "id": "bf417662-2f16-4205-867b-5057884d65f0",
   "metadata": {},
   "outputs": [],
   "source": [
    "#Retrieve Metadata for the Database Client / Driver\n",
    "client = ibm_db.client_info(conn)\n",
    "\n",
    "print (\"DRIVER_NAME:          \", client.DRIVER_NAME) \n",
    "print (\"DRIVER_VER:           \", client.DRIVER_VER)\n",
    "print (\"DATA_SOURCE_NAME:     \", client.DATA_SOURCE_NAME)\n",
    "print (\"DRIVER_ODBC_VER:      \", client.DRIVER_ODBC_VER)\n",
    "print (\"ODBC_VER:             \", client.ODBC_VER)\n",
    "print (\"ODBC_SQL_CONFORMANCE: \", client.ODBC_SQL_CONFORMANCE)\n",
    "print (\"APPL_CODEPAGE:        \", client.APPL_CODEPAGE)\n",
    "print (\"CONN_CODEPAGE:        \", client.CONN_CODEPAGE)"
   ]
  },
  {
   "cell_type": "markdown",
   "id": "6a82295a-c6f4-4645-810c-91c83df65650",
   "metadata": {},
   "source": [
    "## Access DB2 on Cloud using Python"
   ]
  },
  {
   "cell_type": "markdown",
   "id": "33d6cc22-b758-4f8d-898c-610cd3033177",
   "metadata": {},
   "source": [
    "Step 4: Create a table in the database"
   ]
  },
  {
   "cell_type": "code",
   "execution_count": null,
   "id": "b58c0be5-746a-4830-a1b4-6c50bced2d30",
   "metadata": {},
   "outputs": [],
   "source": [
    "#Lets first drop the table INSTRUCTOR in case it exists from a previous attempt\n",
    "dropQuery = \"drop table INSTRUCTOR\"\n",
    "\n",
    "#Now execute the drop statment\n",
    "dropStmt = ibm_db.exec_immediate(conn, dropQuery)"
   ]
  },
  {
   "cell_type": "code",
   "execution_count": null,
   "id": "c9cae0d3-92e6-4920-90a7-d22b5a75a7fb",
   "metadata": {},
   "outputs": [],
   "source": [
    "createQuery = \"create table INSTRUCTOR(ID INTEGER PRIMARY KEY NOT NULL, FNAME VARCHAR(20), LNAME VARCHAR(20), CITY VARCHAR(20), CCODE CHAR(2))\"\n",
    "\n",
    "createStmt = ibm_db.exec_immediate(conn,createQuery)"
   ]
  },
  {
   "cell_type": "markdown",
   "id": "c209313e-8595-4e9f-870b-d04c2dac3d5d",
   "metadata": {},
   "source": [
    "Step 5:  Insert data into the table"
   ]
  },
  {
   "cell_type": "code",
   "execution_count": null,
   "id": "752b6b23-2d05-46e0-a1d0-247848791332",
   "metadata": {},
   "outputs": [],
   "source": [
    "#Construct the query\n",
    "insertQuery = \"insert into INSTRUCTOR values (1, 'Rav', 'Ahuja', 'TORONTO', 'CA')\"\n",
    "\n",
    "#execute the insert statement\n",
    "insertStmt = ibm_db.exec_immediate(conn, insertQuery)"
   ]
  },
  {
   "cell_type": "code",
   "execution_count": null,
   "id": "e0f36279-ee98-4875-a6c8-cfd18c6273c1",
   "metadata": {},
   "outputs": [],
   "source": [
    "insertQuery2 = \"insert into INSTRUCTOR values (2, 'Raul', 'Chong', 'Markham', 'CA'), (3, 'Hima', 'Vasudevan', 'Chicago', 'US')\"\n",
    "\n",
    "#execute the statement\n",
    "insertStmt2 = ibm_db.exec_immediate(conn, insertQuery2)"
   ]
  },
  {
   "cell_type": "markdown",
   "id": "053b5f7c-e421-4ff8-9536-154d1116b76b",
   "metadata": {},
   "source": [
    "Step 6: Query data in the table"
   ]
  },
  {
   "cell_type": "code",
   "execution_count": null,
   "id": "9c7383fb-2d09-4824-afb6-e414b54e2eff",
   "metadata": {},
   "outputs": [],
   "source": [
    "#Construct the query that retrieves all rows from the INSTRUCTOR table\n",
    "selectQuery = \"select * from INSTRUCTOR\"\n",
    "\n",
    "#Execute the statement\n",
    "selectStmt = ibm_db.exec_immediate(conn, selectQuery)\n",
    "\n",
    "#Fetch the Dictionary (for the first row only)\n",
    "ibm_db.fetch_both(selectStmt)"
   ]
  },
  {
   "cell_type": "code",
   "execution_count": null,
   "id": "164d1b32-3ae1-4438-bba2-e7f07133e980",
   "metadata": {},
   "outputs": [],
   "source": [
    "#Fetch the rest of the rows and print the ID and FNAME for those rows\n",
    "while ibm_db.fetch_row(selectStmt) != False:\n",
    "   print (\" ID:\",  ibm_db.result(selectStmt, 0), \" FNAME:\",  ibm_db.result(selectStmt, \"FNAME\"))"
   ]
  },
  {
   "cell_type": "code",
   "execution_count": null,
   "id": "aa7c51aa-7fe7-4337-bb41-00340a178c35",
   "metadata": {},
   "outputs": [],
   "source": [
    "updatequery = \"update INSTRUCTOR set CITY = 'MOOSETOWN' where FNAME='Rav'\"\n",
    "updateStmt = ibm_db.exec_immediate(conn, updatequery)"
   ]
  },
  {
   "cell_type": "markdown",
   "id": "6f4d0eb3-43fd-4e70-a26b-e6f0ebc230f8",
   "metadata": {},
   "source": [
    "Step 7: Retrieve data into Pandas"
   ]
  },
  {
   "cell_type": "code",
   "execution_count": null,
   "id": "d37ef5cf-3d2a-48fd-ba07-23c94309460c",
   "metadata": {},
   "outputs": [],
   "source": [
    "import pandas\n",
    "import ibm_db_dbi"
   ]
  },
  {
   "cell_type": "code",
   "execution_count": null,
   "id": "cfb851d6-e604-47f7-9804-bf2559f876dd",
   "metadata": {},
   "outputs": [],
   "source": [
    "#connection for pandas\n",
    "pconn = ibm_db_dbi.Connection(conn)"
   ]
  },
  {
   "cell_type": "code",
   "execution_count": null,
   "id": "9f1f090e-2ffd-4b37-a8e8-7c141e1e6642",
   "metadata": {},
   "outputs": [],
   "source": [
    "#query statement to retrieve all rows in INSTRUCTOR table\n",
    "selectQuery = \"select * from INSTRUCTOR\"\n",
    "\n",
    "#retrieve the query results into a pandas dataframe\n",
    "df = pandas.read_sql(selectQuery, pconn)\n",
    "\n",
    "#print just the LNAME for first row in the pandas data frame\n",
    "df.LNAME[0]"
   ]
  },
  {
   "cell_type": "code",
   "execution_count": null,
   "id": "8a5a6d15-60f0-49f2-a817-36a0b811c8f2",
   "metadata": {},
   "outputs": [],
   "source": [
    "#print the entire data frame\n",
    "df"
   ]
  },
  {
   "cell_type": "markdown",
   "id": "153116ef-5212-49b0-81a7-41f9c1f2485d",
   "metadata": {},
   "source": [
    "Step 8: Close the Connection"
   ]
  },
  {
   "cell_type": "code",
   "execution_count": null,
   "id": "c6883fd2-6392-453f-b265-447cef6fc3e0",
   "metadata": {},
   "outputs": [],
   "source": [
    "ibm_db.close(conn)"
   ]
  },
  {
   "cell_type": "code",
   "execution_count": null,
   "id": "a4247446-7480-4bff-b58c-0e66e358bdc5",
   "metadata": {},
   "outputs": [],
   "source": []
  }
 ],
 "metadata": {
  "kernelspec": {
   "display_name": "Python",
   "language": "python",
   "name": "conda-env-python-py"
  },
  "language_info": {
   "codemirror_mode": {
    "name": "ipython",
    "version": 3
   },
   "file_extension": ".py",
   "mimetype": "text/x-python",
   "name": "python",
   "nbconvert_exporter": "python",
   "pygments_lexer": "ipython3",
   "version": "3.7.12"
  }
 },
 "nbformat": 4,
 "nbformat_minor": 5
}
